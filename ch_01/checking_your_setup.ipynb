{
 "cells": [
  {
   "cell_type": "markdown",
   "metadata": {},
   "source": [
    "# Checking your setup\n",
    "Run through this notebook to make sure your environment is properly setup. Be sure to launch Jupyter from inside the virtual environment."
   ]
  },
  {
   "cell_type": "code",
   "execution_count": 1,
   "metadata": {},
   "outputs": [
    {
     "name": "stdout",
     "output_type": "stream",
     "text": [
      "Using Python in /Users/rohithr/tensorflow-test/env:\n",
      "\u001b[41m[FAIL]\u001b[0m Python version >= 3.6.0 and < 3.8.0 is required, but 3.8.17 | packaged by conda-forge | (default, Jun 16 2023, 07:11:32) \n",
      "[Clang 14.0.6 ] is installed.\n",
      "\n",
      "\u001b[41m[FAIL]\u001b[0m graphviz not installed.\n",
      "\u001b[41m[FAIL]\u001b[0m imblearn not installed.\n",
      "\u001b[41m[FAIL]\u001b[0m jupyterlab version 0.35.6 is required, but 4.0.5 installed.\n",
      "\u001b[41m[FAIL]\u001b[0m matplotlib version 3.0.3 is required, but 3.7.2 installed.\n",
      "\u001b[41m[FAIL]\u001b[0m numpy version 1.16.3 is required, but 1.23.2 installed.\n",
      "\u001b[41m[FAIL]\u001b[0m pandas version 0.23.4 is required, but 2.0.3 installed.\n",
      "\u001b[41m[FAIL]\u001b[0m pandas_datareader not installed.\n",
      "\u001b[41m[FAIL]\u001b[0m requests version 2.21.0 is required, but 2.31.0 installed.\n",
      "\u001b[41m[FAIL]\u001b[0m sklearn version 0.20.3 is required, but 1.3.0 installed.\n",
      "\u001b[41m[FAIL]\u001b[0m scipy version 1.2.1 is required, but 1.10.1 installed.\n",
      "\u001b[41m[FAIL]\u001b[0m seaborn not installed.\n",
      "\u001b[41m[FAIL]\u001b[0m sqlalchemy not installed.\n",
      "\u001b[41m[FAIL]\u001b[0m statsmodels not installed.\n",
      "\u001b[41m[FAIL]\u001b[0m login_attempt_simulator not installed.\n",
      "\u001b[41m[FAIL]\u001b[0m ml_utils not installed.\n",
      "\u001b[41m[FAIL]\u001b[0m stock_analysis not installed.\n"
     ]
    }
   ],
   "source": [
    "from check_environment import run_checks\n",
    "run_checks()"
   ]
  },
  {
   "cell_type": "markdown",
   "metadata": {},
   "source": [
    "*Note: Adapted from Andreas Mueller's [`check_env.ipynb` notebook](https://github.com/amueller/ml-workshop-1-of-4/blob/master/check_env.ipynb).*"
   ]
  }
 ],
 "metadata": {
  "kernelspec": {
   "display_name": "Python 3",
   "language": "python",
   "name": "python3"
  },
  "language_info": {
   "codemirror_mode": {
    "name": "ipython",
    "version": 3
   },
   "file_extension": ".py",
   "mimetype": "text/x-python",
   "name": "python",
   "nbconvert_exporter": "python",
   "pygments_lexer": "ipython3",
   "version": "3.8.17"
  }
 },
 "nbformat": 4,
 "nbformat_minor": 2
}
