{
 "cells": [
  {
   "cell_type": "markdown",
   "metadata": {},
   "source": [
    "# Coding exercises\n",
    "Exercises 1-3 are thought exercises that don't require coding. \n",
    "\n",
    "## Exercise 4: Generate the data by running this cell\n",
    "This will give you a list of numbers to work with in the remaining exercises."
   ]
  },
  {
   "cell_type": "code",
   "execution_count": 1,
   "metadata": {},
   "outputs": [],
   "source": [
    "import random\n",
    "random.seed(0)\n",
    "salaries = [round(random.random()*1000000, -3) for _ in range(100)]"
   ]
  },
  {
   "cell_type": "markdown",
   "metadata": {},
   "source": [
    "## Exercise 5: Calculating statistics and verifying\n",
    "### mean"
   ]
  },
  {
   "cell_type": "code",
   "execution_count": 3,
   "metadata": {},
   "outputs": [
    {
     "name": "stdout",
     "output_type": "stream",
     "text": [
      "585690.0\n"
     ]
    }
   ],
   "source": [
    "import statistics as st\n",
    "print(st.mean(salaries))"
   ]
  },
  {
   "cell_type": "markdown",
   "metadata": {},
   "source": [
    "### median"
   ]
  },
  {
   "cell_type": "code",
   "execution_count": 5,
   "metadata": {},
   "outputs": [
    {
     "name": "stdout",
     "output_type": "stream",
     "text": [
      "589000.0\n"
     ]
    }
   ],
   "source": [
    "print(st.median(salaries))"
   ]
  },
  {
   "cell_type": "markdown",
   "metadata": {},
   "source": [
    "### mode"
   ]
  },
  {
   "cell_type": "code",
   "execution_count": 6,
   "metadata": {},
   "outputs": [
    {
     "name": "stdout",
     "output_type": "stream",
     "text": [
      "477000.0\n"
     ]
    }
   ],
   "source": [
    "print(st.mode(salaries))"
   ]
  },
  {
   "cell_type": "markdown",
   "metadata": {},
   "source": [
    "### sample variance\n",
    "Remember to use Bessel's correction."
   ]
  },
  {
   "cell_type": "code",
   "execution_count": 12,
   "metadata": {},
   "outputs": [
    {
     "name": "stdout",
     "output_type": "stream",
     "text": [
      "70664054444.44444\n"
     ]
    }
   ],
   "source": [
    "print(st.variance(salaries))"
   ]
  },
  {
   "cell_type": "markdown",
   "metadata": {},
   "source": [
    "### sample standard deviation\n",
    "Remember to use Bessel's correction."
   ]
  },
  {
   "cell_type": "code",
   "execution_count": 14,
   "metadata": {},
   "outputs": [
    {
     "name": "stdout",
     "output_type": "stream",
     "text": [
      "265827.11382484\n"
     ]
    }
   ],
   "source": [
    "print(st.stdev(salaries))"
   ]
  },
  {
   "cell_type": "markdown",
   "metadata": {},
   "source": [
    "## Exercise 6: Calculating more statistics\n",
    "### range"
   ]
  },
  {
   "cell_type": "code",
   "execution_count": 18,
   "metadata": {},
   "outputs": [
    {
     "name": "stdout",
     "output_type": "stream",
     "text": [
      "995000.0\n"
     ]
    }
   ],
   "source": [
    "print(max(salaries) - min(salaries))"
   ]
  },
  {
   "cell_type": "markdown",
   "metadata": {},
   "source": [
    "### coefficient of variation"
   ]
  },
  {
   "cell_type": "code",
   "execution_count": 20,
   "metadata": {},
   "outputs": [
    {
     "name": "stdout",
     "output_type": "stream",
     "text": [
      "coeffient if variation is sd/mean--> 0.45386998894439035\n"
     ]
    }
   ],
   "source": [
    "print(\"coeffient if variation is sd/mean-->\",st.stdev(salaries)/st.mean(salaries))"
   ]
  },
  {
   "cell_type": "markdown",
   "metadata": {},
   "source": [
    "### interquartile range"
   ]
  },
  {
   "cell_type": "code",
   "execution_count": 25,
   "metadata": {},
   "outputs": [
    {
     "name": "stdout",
     "output_type": "stream",
     "text": [
      "413250.0\n"
     ]
    }
   ],
   "source": [
    "import numpy as np\n",
    "q1 , q3 = np.percentile(salaries,[25,75])\n",
    "iqr = q3 - q1\n",
    "print(iqr)"
   ]
  },
  {
   "cell_type": "markdown",
   "metadata": {},
   "source": [
    "### quartile coefficent of dispersion"
   ]
  },
  {
   "cell_type": "code",
   "execution_count": 28,
   "metadata": {},
   "outputs": [
    {
     "name": "stdout",
     "output_type": "stream",
     "text": [
      "0.338660110633067\n"
     ]
    }
   ],
   "source": [
    "q1 = np.percentile(salaries,25)\n",
    "q3 = np.percentile(salaries,75)\n",
    "qcod = (q3-q1)/(q3+q1)\n",
    "print(qcod)"
   ]
  },
  {
   "cell_type": "markdown",
   "metadata": {},
   "source": [
    "## Exercise 7: Scaling data\n",
    "### min-max scaling"
   ]
  },
  {
   "cell_type": "code",
   "execution_count": 34,
   "metadata": {},
   "outputs": [
    {
     "name": "stdout",
     "output_type": "stream",
     "text": [
      "min_max scaler =  [0.84723618 0.76080402 0.42211055 0.25929648 0.51256281 0.40603015\n",
      " 0.78693467 0.30351759 0.47839196 0.58492462 0.91155779 0.50653266\n",
      " 0.28241206 0.75879397 0.6201005  0.25125628 0.91356784 0.98693467\n",
      " 0.81306533 0.90552764 0.31055276 0.73266332 0.90251256 0.68643216\n",
      " 0.47336683 0.10050251 0.43517588 0.61306533 0.91658291 0.97085427\n",
      " 0.47839196 0.86834171 0.26030151 0.8080402  0.55075377 0.01306533\n",
      " 0.72261307 0.4        0.8281407  0.67035176 0.         0.49547739\n",
      " 0.87135678 0.24422111 0.32562814 0.87336683 0.19095477 0.56984925\n",
      " 0.23919598 0.9718593  0.80603015 0.44924623 0.07939698 0.32060302\n",
      " 0.50954774 0.93668342 0.10854271 0.55276382 0.70954774 0.54874372\n",
      " 0.81708543 0.54170854 0.9678392  0.60502513 0.58994975 0.44623116\n",
      " 0.59798995 0.38592965 0.57788945 0.29045226 0.18894472 0.18693467\n",
      " 0.61507538 0.65929648 0.47839196 0.08944724 0.76080402 0.88040201\n",
      " 0.92663317 0.84522613 0.90150754 0.92663317 0.54271357 0.3919598\n",
      " 0.70753769 0.27638191 0.81507538 0.85226131 0.89849246 0.5919598\n",
      " 0.95376884 0.58190955 0.45226131 0.66231156 1.         0.92060302\n",
      " 0.7959799  0.08140704 0.61507538 0.48743719]\n"
     ]
    }
   ],
   "source": [
    "print(\"min_max scaler = \",(salaries-np.amin(salaries))/(np.amax(salaries) - np.amin(salaries)))"
   ]
  },
  {
   "cell_type": "markdown",
   "metadata": {},
   "source": [
    "### standardizing"
   ]
  },
  {
   "cell_type": "code",
   "execution_count": 39,
   "metadata": {},
   "outputs": [
    {
     "name": "stdout",
     "output_type": "stream",
     "text": [
      "[843997.79672588 757997.79672588 420997.79672588 258997.79672588\n",
      " 510997.79672588 404997.79672588 783997.79672588 302997.79672588\n",
      " 476997.79672588 582997.79672588 907997.79672588 504997.79672588\n",
      " 281997.79672588 755997.79672588 617997.79672588 250997.79672588\n",
      " 909997.79672588 982997.79672588 809997.79672588 901997.79672588\n",
      " 309997.79672588 729997.79672588 898997.79672588 683997.79672588\n",
      " 471997.79672588 100997.79672588 433997.79672588 610997.79672588\n",
      " 912997.79672588 966997.79672588 476997.79672588 864997.79672588\n",
      " 259997.79672588 804997.79672588 548997.79672588  13997.79672588\n",
      " 719997.79672588 398997.79672588 824997.79672588 667997.79672588\n",
      "    997.79672588 493997.79672588 867997.79672588 243997.79672588\n",
      " 324997.79672588 869997.79672588 190997.79672588 567997.79672588\n",
      " 238997.79672588 967997.79672588 802997.79672588 447997.79672588\n",
      "  79997.79672588 319997.79672588 507997.79672588 932997.79672588\n",
      " 108997.79672588 550997.79672588 706997.79672588 546997.79672588\n",
      " 813997.79672588 539997.79672588 963997.79672588 602997.79672588\n",
      " 587997.79672588 444997.79672588 595997.79672588 384997.79672588\n",
      " 575997.79672588 289997.79672588 188997.79672588 186997.79672588\n",
      " 612997.79672588 656997.79672588 476997.79672588  89997.79672588\n",
      " 757997.79672588 876997.79672588 922997.79672588 841997.79672588\n",
      " 897997.79672588 922997.79672588 540997.79672588 390997.79672588\n",
      " 704997.79672588 275997.79672588 811997.79672588 848997.79672588\n",
      " 894997.79672588 589997.79672588 949997.79672588 579997.79672588\n",
      " 450997.79672588 659997.79672588 995997.79672588 916997.79672588\n",
      " 792997.79672588  81997.79672588 612997.79672588 485997.79672588]\n"
     ]
    }
   ],
   "source": [
    "#z score\n",
    "print((salaries-np.mean(salaries)/st.stdev(salaries)))"
   ]
  },
  {
   "cell_type": "markdown",
   "metadata": {},
   "source": [
    "## Exercise 8: Calculating covariance and correlation\n",
    "### covariance"
   ]
  },
  {
   "cell_type": "code",
   "execution_count": null,
   "metadata": {},
   "outputs": [],
   "source": []
  },
  {
   "cell_type": "markdown",
   "metadata": {},
   "source": [
    "### Pearson correlation coefficient ($\\rho$)"
   ]
  },
  {
   "cell_type": "code",
   "execution_count": null,
   "metadata": {},
   "outputs": [],
   "source": []
  }
 ],
 "metadata": {
  "kernelspec": {
   "display_name": "Python 3",
   "language": "python",
   "name": "python3"
  },
  "language_info": {
   "codemirror_mode": {
    "name": "ipython",
    "version": 3
   },
   "file_extension": ".py",
   "mimetype": "text/x-python",
   "name": "python",
   "nbconvert_exporter": "python",
   "pygments_lexer": "ipython3",
   "version": "3.8.17"
  }
 },
 "nbformat": 4,
 "nbformat_minor": 2
}
